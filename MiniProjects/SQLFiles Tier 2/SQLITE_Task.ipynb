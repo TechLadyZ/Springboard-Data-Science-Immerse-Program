{
 "cells": [
  {
   "cell_type": "code",
   "execution_count": 1,
   "id": "2b97b86f",
   "metadata": {},
   "outputs": [],
   "source": [
    "import sqlite3\n",
    "from sqlite3 import Error\n",
    "import pandas as pd"
   ]
  },
  {
   "cell_type": "code",
   "execution_count": 2,
   "id": "40a66512",
   "metadata": {},
   "outputs": [],
   "source": [
    "con = sqlite3.connect('sqlite_db_pythonsqlite.db')"
   ]
  },
  {
   "cell_type": "code",
   "execution_count": 3,
   "id": "d3d193e8",
   "metadata": {},
   "outputs": [
    {
     "name": "stdout",
     "output_type": "stream",
     "text": [
      "2.6.0\n"
     ]
    }
   ],
   "source": [
    "print(sqlite3.version)"
   ]
  },
  {
   "cell_type": "code",
   "execution_count": 4,
   "id": "31442fd9",
   "metadata": {},
   "outputs": [],
   "source": [
    "cur = con.cursor()"
   ]
  },
  {
   "cell_type": "code",
   "execution_count": 5,
   "id": "612289f3",
   "metadata": {},
   "outputs": [],
   "source": [
    "query1 = 'SELECT * FROM Facilities'\n",
    "rs = cur.execute(query1)\n",
    "facilities = pd.DataFrame(rs.fetchall())\n",
    "\n",
    "facilities.columns = list(map(lambda x: x[0], rs.description))"
   ]
  },
  {
   "cell_type": "code",
   "execution_count": 6,
   "id": "76d7cf46",
   "metadata": {},
   "outputs": [
    {
     "data": {
      "text/html": [
       "<div>\n",
       "<style scoped>\n",
       "    .dataframe tbody tr th:only-of-type {\n",
       "        vertical-align: middle;\n",
       "    }\n",
       "\n",
       "    .dataframe tbody tr th {\n",
       "        vertical-align: top;\n",
       "    }\n",
       "\n",
       "    .dataframe thead th {\n",
       "        text-align: right;\n",
       "    }\n",
       "</style>\n",
       "<table border=\"1\" class=\"dataframe\">\n",
       "  <thead>\n",
       "    <tr style=\"text-align: right;\">\n",
       "      <th></th>\n",
       "      <th>facid</th>\n",
       "      <th>name</th>\n",
       "      <th>membercost</th>\n",
       "      <th>guestcost</th>\n",
       "      <th>initialoutlay</th>\n",
       "      <th>monthlymaintenance</th>\n",
       "    </tr>\n",
       "  </thead>\n",
       "  <tbody>\n",
       "    <tr>\n",
       "      <th>0</th>\n",
       "      <td>0</td>\n",
       "      <td>Tennis Court 1</td>\n",
       "      <td>5.0</td>\n",
       "      <td>25.0</td>\n",
       "      <td>10000</td>\n",
       "      <td>200</td>\n",
       "    </tr>\n",
       "    <tr>\n",
       "      <th>1</th>\n",
       "      <td>1</td>\n",
       "      <td>Tennis Court 2</td>\n",
       "      <td>5.0</td>\n",
       "      <td>25.0</td>\n",
       "      <td>8000</td>\n",
       "      <td>200</td>\n",
       "    </tr>\n",
       "    <tr>\n",
       "      <th>2</th>\n",
       "      <td>2</td>\n",
       "      <td>Badminton Court</td>\n",
       "      <td>0.0</td>\n",
       "      <td>15.5</td>\n",
       "      <td>4000</td>\n",
       "      <td>50</td>\n",
       "    </tr>\n",
       "    <tr>\n",
       "      <th>3</th>\n",
       "      <td>3</td>\n",
       "      <td>Table Tennis</td>\n",
       "      <td>0.0</td>\n",
       "      <td>5.0</td>\n",
       "      <td>320</td>\n",
       "      <td>10</td>\n",
       "    </tr>\n",
       "    <tr>\n",
       "      <th>4</th>\n",
       "      <td>4</td>\n",
       "      <td>Massage Room 1</td>\n",
       "      <td>9.9</td>\n",
       "      <td>80.0</td>\n",
       "      <td>4000</td>\n",
       "      <td>3000</td>\n",
       "    </tr>\n",
       "  </tbody>\n",
       "</table>\n",
       "</div>"
      ],
      "text/plain": [
       "   facid             name  membercost  guestcost  initialoutlay  \\\n",
       "0      0   Tennis Court 1         5.0       25.0          10000   \n",
       "1      1   Tennis Court 2         5.0       25.0           8000   \n",
       "2      2  Badminton Court         0.0       15.5           4000   \n",
       "3      3     Table Tennis         0.0        5.0            320   \n",
       "4      4   Massage Room 1         9.9       80.0           4000   \n",
       "\n",
       "   monthlymaintenance  \n",
       "0                 200  \n",
       "1                 200  \n",
       "2                  50  \n",
       "3                  10  \n",
       "4                3000  "
      ]
     },
     "execution_count": 6,
     "metadata": {},
     "output_type": "execute_result"
    }
   ],
   "source": [
    "facilities.head()"
   ]
  },
  {
   "cell_type": "code",
   "execution_count": 7,
   "id": "6bab5957",
   "metadata": {},
   "outputs": [],
   "source": [
    "query2 = 'SELECT * FROM Bookings'\n",
    "rs = cur.execute(query2)\n",
    "bookings = pd.DataFrame(rs.fetchall())\n",
    "\n",
    "bookings.columns = list(map(lambda x: x[0], rs.description))"
   ]
  },
  {
   "cell_type": "code",
   "execution_count": 8,
   "id": "abcf5f03",
   "metadata": {},
   "outputs": [
    {
     "data": {
      "text/html": [
       "<div>\n",
       "<style scoped>\n",
       "    .dataframe tbody tr th:only-of-type {\n",
       "        vertical-align: middle;\n",
       "    }\n",
       "\n",
       "    .dataframe tbody tr th {\n",
       "        vertical-align: top;\n",
       "    }\n",
       "\n",
       "    .dataframe thead th {\n",
       "        text-align: right;\n",
       "    }\n",
       "</style>\n",
       "<table border=\"1\" class=\"dataframe\">\n",
       "  <thead>\n",
       "    <tr style=\"text-align: right;\">\n",
       "      <th></th>\n",
       "      <th>bookid</th>\n",
       "      <th>facid</th>\n",
       "      <th>memid</th>\n",
       "      <th>starttime</th>\n",
       "      <th>slots</th>\n",
       "    </tr>\n",
       "  </thead>\n",
       "  <tbody>\n",
       "    <tr>\n",
       "      <th>0</th>\n",
       "      <td>0</td>\n",
       "      <td>3</td>\n",
       "      <td>1</td>\n",
       "      <td>2012-07-03 11:00:00</td>\n",
       "      <td>2</td>\n",
       "    </tr>\n",
       "    <tr>\n",
       "      <th>1</th>\n",
       "      <td>1</td>\n",
       "      <td>4</td>\n",
       "      <td>1</td>\n",
       "      <td>2012-07-03 08:00:00</td>\n",
       "      <td>2</td>\n",
       "    </tr>\n",
       "    <tr>\n",
       "      <th>2</th>\n",
       "      <td>2</td>\n",
       "      <td>6</td>\n",
       "      <td>0</td>\n",
       "      <td>2012-07-03 18:00:00</td>\n",
       "      <td>2</td>\n",
       "    </tr>\n",
       "    <tr>\n",
       "      <th>3</th>\n",
       "      <td>3</td>\n",
       "      <td>7</td>\n",
       "      <td>1</td>\n",
       "      <td>2012-07-03 19:00:00</td>\n",
       "      <td>2</td>\n",
       "    </tr>\n",
       "    <tr>\n",
       "      <th>4</th>\n",
       "      <td>4</td>\n",
       "      <td>8</td>\n",
       "      <td>1</td>\n",
       "      <td>2012-07-03 10:00:00</td>\n",
       "      <td>1</td>\n",
       "    </tr>\n",
       "  </tbody>\n",
       "</table>\n",
       "</div>"
      ],
      "text/plain": [
       "   bookid  facid  memid            starttime  slots\n",
       "0       0      3      1  2012-07-03 11:00:00      2\n",
       "1       1      4      1  2012-07-03 08:00:00      2\n",
       "2       2      6      0  2012-07-03 18:00:00      2\n",
       "3       3      7      1  2012-07-03 19:00:00      2\n",
       "4       4      8      1  2012-07-03 10:00:00      1"
      ]
     },
     "execution_count": 8,
     "metadata": {},
     "output_type": "execute_result"
    }
   ],
   "source": [
    "bookings.head()"
   ]
  },
  {
   "cell_type": "code",
   "execution_count": 9,
   "id": "7c5228d4",
   "metadata": {},
   "outputs": [],
   "source": [
    "query1 = 'SELECT * FROM Members'\n",
    "rs = cur.execute(query1)\n",
    "members = pd.DataFrame(rs.fetchall())\n",
    "\n",
    "members.columns = list(map(lambda x: x[0], rs.description))"
   ]
  },
  {
   "cell_type": "code",
   "execution_count": 10,
   "id": "32002032",
   "metadata": {},
   "outputs": [
    {
     "data": {
      "text/html": [
       "<div>\n",
       "<style scoped>\n",
       "    .dataframe tbody tr th:only-of-type {\n",
       "        vertical-align: middle;\n",
       "    }\n",
       "\n",
       "    .dataframe tbody tr th {\n",
       "        vertical-align: top;\n",
       "    }\n",
       "\n",
       "    .dataframe thead th {\n",
       "        text-align: right;\n",
       "    }\n",
       "</style>\n",
       "<table border=\"1\" class=\"dataframe\">\n",
       "  <thead>\n",
       "    <tr style=\"text-align: right;\">\n",
       "      <th></th>\n",
       "      <th>memid</th>\n",
       "      <th>surname</th>\n",
       "      <th>firstname</th>\n",
       "      <th>address</th>\n",
       "      <th>zipcode</th>\n",
       "      <th>telephone</th>\n",
       "      <th>recommendedby</th>\n",
       "      <th>joindate</th>\n",
       "    </tr>\n",
       "  </thead>\n",
       "  <tbody>\n",
       "    <tr>\n",
       "      <th>0</th>\n",
       "      <td>0</td>\n",
       "      <td>GUEST</td>\n",
       "      <td>GUEST</td>\n",
       "      <td>GUEST</td>\n",
       "      <td>0</td>\n",
       "      <td>(000) 000-0000</td>\n",
       "      <td></td>\n",
       "      <td>2012-07-01 00:00:00</td>\n",
       "    </tr>\n",
       "    <tr>\n",
       "      <th>1</th>\n",
       "      <td>1</td>\n",
       "      <td>Smith</td>\n",
       "      <td>Darren</td>\n",
       "      <td>8 Bloomsbury Close, Boston</td>\n",
       "      <td>4321</td>\n",
       "      <td>555-555-5555</td>\n",
       "      <td></td>\n",
       "      <td>2012-07-02 12:02:05</td>\n",
       "    </tr>\n",
       "    <tr>\n",
       "      <th>2</th>\n",
       "      <td>2</td>\n",
       "      <td>Smith</td>\n",
       "      <td>Tracy</td>\n",
       "      <td>8 Bloomsbury Close, New York</td>\n",
       "      <td>4321</td>\n",
       "      <td>555-555-5555</td>\n",
       "      <td></td>\n",
       "      <td>2012-07-02 12:08:23</td>\n",
       "    </tr>\n",
       "    <tr>\n",
       "      <th>3</th>\n",
       "      <td>3</td>\n",
       "      <td>Rownam</td>\n",
       "      <td>Tim</td>\n",
       "      <td>23 Highway Way, Boston</td>\n",
       "      <td>23423</td>\n",
       "      <td>(844) 693-0723</td>\n",
       "      <td></td>\n",
       "      <td>2012-07-03 09:32:15</td>\n",
       "    </tr>\n",
       "    <tr>\n",
       "      <th>4</th>\n",
       "      <td>4</td>\n",
       "      <td>Joplette</td>\n",
       "      <td>Janice</td>\n",
       "      <td>20 Crossing Road, New York</td>\n",
       "      <td>234</td>\n",
       "      <td>(833) 942-4710</td>\n",
       "      <td>1</td>\n",
       "      <td>2012-07-03 10:25:05</td>\n",
       "    </tr>\n",
       "  </tbody>\n",
       "</table>\n",
       "</div>"
      ],
      "text/plain": [
       "   memid   surname firstname                       address  zipcode  \\\n",
       "0      0     GUEST     GUEST                         GUEST        0   \n",
       "1      1     Smith    Darren    8 Bloomsbury Close, Boston     4321   \n",
       "2      2     Smith     Tracy  8 Bloomsbury Close, New York     4321   \n",
       "3      3    Rownam       Tim        23 Highway Way, Boston    23423   \n",
       "4      4  Joplette    Janice    20 Crossing Road, New York      234   \n",
       "\n",
       "        telephone recommendedby             joindate  \n",
       "0  (000) 000-0000                2012-07-01 00:00:00  \n",
       "1    555-555-5555                2012-07-02 12:02:05  \n",
       "2    555-555-5555                2012-07-02 12:08:23  \n",
       "3  (844) 693-0723                2012-07-03 09:32:15  \n",
       "4  (833) 942-4710             1  2012-07-03 10:25:05  "
      ]
     },
     "execution_count": 10,
     "metadata": {},
     "output_type": "execute_result"
    }
   ],
   "source": [
    "members.head()"
   ]
  },
  {
   "cell_type": "code",
   "execution_count": 15,
   "id": "9a0136a1",
   "metadata": {},
   "outputs": [],
   "source": [
    "def query(q):\n",
    "    rs = cur.execute(q)\n",
    "    df = pd.DataFrame(rs.fetchall())\n",
    "    df.columns = list(map(lambda x: x[0], rs.description))\n",
    "    print(df)"
   ]
  },
  {
   "cell_type": "raw",
   "id": "70654e1c",
   "metadata": {},
   "source": [
    "#  Q10: Produce a list of facilities with a total revenue less than 1000.\n",
    "The output of facility name and total revenue, sorted by revenue. Remember\n",
    "that there's a different cost for guests and members! */"
   ]
  },
  {
   "cell_type": "code",
   "execution_count": 83,
   "id": "1f57d06d",
   "metadata": {},
   "outputs": [
    {
     "name": "stdout",
     "output_type": "stream",
     "text": [
      "   Facility_name  Revenue\n",
      "0   Table Tennis      180\n",
      "1  Snooker Table      240\n",
      "2     Pool Table      270\n"
     ]
    }
   ],
   "source": [
    "q = \"\"\"WITH revenue AS(\n",
    "SELECT F.name AS Facility_name, \n",
    "SUM(CASE WHEN B.memid=0 THEN B.slots*F.guestcost\n",
    "     ELSE B.slots*F.membercost END) AS Revenue\n",
    "FROM Bookings AS B\n",
    "LEFT JOIN Facilities AS F\n",
    "ON B.facid = F.facid\n",
    "GROUP BY F.name\n",
    "ORDER BY Revenue)\n",
    "\n",
    "SELECT Facility_name, Revenue\n",
    "FROM revenue\n",
    "WHERE Revenue < 1000\n",
    "\"\"\"\n",
    "\n",
    "query(q)"
   ]
  },
  {
   "cell_type": "raw",
   "id": "a956f9e4",
   "metadata": {},
   "source": [
    "* Q11: Produce a report of members and who recommended them in alphabetic surname,firstname order */"
   ]
  },
  {
   "cell_type": "code",
   "execution_count": 84,
   "id": "c35419d7",
   "metadata": {},
   "outputs": [
    {
     "name": "stdout",
     "output_type": "stream",
     "text": [
      "               Member              Recommender\n",
      "0      Bader,Florence         Sarwin,Ramnaresh\n",
      "1       Baker,Timothy              Coplin,Joan\n",
      "2      Butters,Gerald          Genting,Matthew\n",
      "3      Farrell,Jemima            Baker,Timothy\n",
      "4      Farrell,Jemima             Pinker,David\n",
      "5     Genting,Matthew         Rumney,Henrietta\n",
      "6         Jones,David            Jones,Douglas\n",
      "7     Joplette,Janice               Dare,Nancy\n",
      "8     Joplette,Janice              Jones,David\n",
      "9   Purview,Millicent                Hunt,John\n",
      "10         Rownam,Tim               Boothe,Tim\n",
      "11       Smith,Darren           Butters,Gerald\n",
      "12       Smith,Darren          Joplette,Janice\n",
      "13       Smith,Darren           Mackenzie,Anna\n",
      "14       Smith,Darren             Owen,Charles\n",
      "15       Smith,Darren               Smith,Jack\n",
      "16        Smith,Tracy            Crumpet,Erica\n",
      "17        Smith,Tracy        Purview,Millicent\n",
      "18        Smith,Tracy  Worthington-Smyth,Henry\n",
      "19    Stibbons,Ponder           Bader,Florence\n",
      "20    Stibbons,Ponder               Baker,Anne\n",
      "21       Tracy,Burton          Stibbons,Ponder\n"
     ]
    }
   ],
   "source": [
    "q = \"\"\"SELECT (M1.surname || ',' || M1.firstname) AS Member, (M2.surname || ',' || M2.firstname) AS Recommender\n",
    "FROM Members AS M1\n",
    "Inner JOIN Members AS M2 on M1.memid = M2.recommendedby\n",
    "ORDER BY Member, Recommender\"\"\"\n",
    "query(q)"
   ]
  },
  {
   "cell_type": "raw",
   "id": "77c005e7",
   "metadata": {},
   "source": [
    "/* Q12: Find the facilities with their usage by member, but not guests */"
   ]
  },
  {
   "cell_type": "code",
   "execution_count": 95,
   "id": "24520a23",
   "metadata": {},
   "outputs": [
    {
     "name": "stdout",
     "output_type": "stream",
     "text": [
      "     Facility_name  Total_usage\n",
      "0  Badminton Court         1086\n",
      "1   Tennis Court 1          957\n",
      "2   Massage Room 1          884\n",
      "3   Tennis Court 2          882\n",
      "4    Snooker Table          860\n",
      "5       Pool Table          856\n",
      "6     Table Tennis          794\n",
      "7     Squash Court          418\n",
      "8   Massage Room 2           54\n"
     ]
    }
   ],
   "source": [
    "q = \"\"\"SELECT F.name AS Facility_name, \n",
    "SUM(CASE WHEN B.memid != 0 THEN B.slots\n",
    "    ELSE 0 END) AS Total_usage\n",
    "FROM Bookings AS B\n",
    "LEFT JOIN Facilities AS F\n",
    "ON B.facid = F.facid\n",
    "GROUP BY F.name\n",
    "ORDER BY Total_usage DESC\"\"\"\n",
    "query(q)"
   ]
  },
  {
   "cell_type": "raw",
   "id": "014ccb08",
   "metadata": {},
   "source": [
    "/* Q13: Find the facilities usage by month, but not guests */"
   ]
  },
  {
   "cell_type": "code",
   "execution_count": 96,
   "id": "e24e6340",
   "metadata": {},
   "outputs": [
    {
     "name": "stdout",
     "output_type": "stream",
     "text": [
      "      Facility_name month  Total_usage\n",
      "0   Badminton Court    09          507\n",
      "1        Pool Table    09          443\n",
      "2    Tennis Court 1    09          417\n",
      "3   Badminton Court    08          414\n",
      "4    Tennis Court 2    09          414\n",
      "5     Snooker Table    09          404\n",
      "6    Massage Room 1    09          402\n",
      "7      Table Tennis    09          400\n",
      "8    Tennis Court 2    08          345\n",
      "9    Tennis Court 1    08          339\n",
      "10   Massage Room 1    08          316\n",
      "11    Snooker Table    08          316\n",
      "12       Pool Table    08          303\n",
      "13     Table Tennis    08          296\n",
      "14   Tennis Court 1    07          201\n",
      "15     Squash Court    08          184\n",
      "16     Squash Court    09          184\n",
      "17   Massage Room 1    07          166\n",
      "18  Badminton Court    07          165\n",
      "19    Snooker Table    07          140\n",
      "20   Tennis Court 2    07          123\n",
      "21       Pool Table    07          110\n",
      "22     Table Tennis    07           98\n",
      "23     Squash Court    07           50\n",
      "24   Massage Room 2    09           28\n",
      "25   Massage Room 2    08           18\n",
      "26   Massage Room 2    07            8\n"
     ]
    }
   ],
   "source": [
    "q = \"\"\"SELECT F.name AS Facility_name, strftime('%m', DATE(B.starttime)) AS month, \n",
    "SUM(CASE WHEN B.memid != 0 THEN B.slots\n",
    "    ELSE 0 END) AS Total_usage\n",
    "FROM Bookings AS B\n",
    "LEFT JOIN Facilities AS F\n",
    "ON B.facid = F.facid\n",
    "GROUP BY F.name, Month\n",
    "ORDER BY Total_usage DESC\"\"\"\"\"\n",
    "\n",
    "query(q)"
   ]
  }
 ],
 "metadata": {
  "kernelspec": {
   "display_name": "Python 3 (ipykernel)",
   "language": "python",
   "name": "python3"
  },
  "language_info": {
   "codemirror_mode": {
    "name": "ipython",
    "version": 3
   },
   "file_extension": ".py",
   "mimetype": "text/x-python",
   "name": "python",
   "nbconvert_exporter": "python",
   "pygments_lexer": "ipython3",
   "version": "3.9.7"
  }
 },
 "nbformat": 4,
 "nbformat_minor": 5
}
