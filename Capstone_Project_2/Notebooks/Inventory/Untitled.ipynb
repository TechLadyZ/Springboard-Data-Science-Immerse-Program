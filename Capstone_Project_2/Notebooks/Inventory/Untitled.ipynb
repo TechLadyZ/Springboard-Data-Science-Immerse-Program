{
 "cells": [
  {
   "cell_type": "code",
   "execution_count": null,
   "id": "a1c45617",
   "metadata": {},
   "outputs": [],
   "source": [
    "for i in range(1000, 18000, 1000):\n",
    "    n_features = i\n",
    "    tfidf = TfidfVectorizer(min_df=10, max_df=0.95, use_idf=True, max_features=n_features)\n",
    "    train_tfidf = tfidf.fit_transform(train_df['clean_text'])\n",
    "    tfidf_array = train_tfidf.toarray()\n",
    "    \n",
    "    X = tfidf_array\n",
    "    y = uni_df['toxic_type'].values\n",
    "    X_train, X_test, y_train, y_test = train_test_split(X, y, random_state=1)\n",
    "    \n",
    "    clf = LogisticRegression(solver='lbfgs', max_iter=20000)\n",
    "    clf.fit(X_train, y_train)\n",
    "    y_predict = clf.predict(X_test)\n",
    "    print(i, accuracy_score(y_test, y_predict))"
   ]
  }
 ],
 "metadata": {
  "kernelspec": {
   "display_name": "Python 3 (ipykernel)",
   "language": "python",
   "name": "python3"
  },
  "language_info": {
   "codemirror_mode": {
    "name": "ipython",
    "version": 3
   },
   "file_extension": ".py",
   "mimetype": "text/x-python",
   "name": "python",
   "nbconvert_exporter": "python",
   "pygments_lexer": "ipython3",
   "version": "3.9.7"
  }
 },
 "nbformat": 4,
 "nbformat_minor": 5
}
