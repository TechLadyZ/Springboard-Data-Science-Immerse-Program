{
 "cells": [
  {
   "cell_type": "code",
   "execution_count": 1,
   "id": "e1300b2d",
   "metadata": {},
   "outputs": [
    {
     "ename": "AttributeError",
     "evalue": "module 'graphviz.backend' has no attribute 'ENCODING'",
     "output_type": "error",
     "traceback": [
      "\u001b[0;31m---------------------------------------------------------------------------\u001b[0m",
      "\u001b[0;31mAttributeError\u001b[0m                            Traceback (most recent call last)",
      "Input \u001b[0;32mIn [1]\u001b[0m, in \u001b[0;36m<cell line: 1>\u001b[0;34m()\u001b[0m\n\u001b[0;32m----> 1\u001b[0m \u001b[38;5;28;01mimport\u001b[39;00m \u001b[38;5;21;01mgraphviz\u001b[39;00m\n",
      "File \u001b[0;32m~/opt/anaconda3/lib/python3.9/site-packages/graphviz/__init__.py:27\u001b[0m, in \u001b[0;36m<module>\u001b[0;34m\u001b[0m\n\u001b[1;32m      1\u001b[0m \u001b[38;5;66;03m# graphviz - create dot, save, render, view\u001b[39;00m\n\u001b[1;32m      3\u001b[0m \u001b[38;5;124;03m\"\"\"Assemble DOT source code and render it with Graphviz.\u001b[39;00m\n\u001b[1;32m      4\u001b[0m \n\u001b[1;32m      5\u001b[0m \u001b[38;5;124;03m>>> dot = Digraph(comment='The Round Table')\u001b[39;00m\n\u001b[0;32m   (...)\u001b[0m\n\u001b[1;32m     24\u001b[0m \u001b[38;5;124;03m}\u001b[39;00m\n\u001b[1;32m     25\u001b[0m \u001b[38;5;124;03m\"\"\"\u001b[39;00m\n\u001b[0;32m---> 27\u001b[0m \u001b[38;5;28;01mfrom\u001b[39;00m \u001b[38;5;21;01m.\u001b[39;00m\u001b[38;5;21;01mdot\u001b[39;00m \u001b[38;5;28;01mimport\u001b[39;00m Graph, Digraph\n\u001b[1;32m     28\u001b[0m \u001b[38;5;28;01mfrom\u001b[39;00m \u001b[38;5;21;01m.\u001b[39;00m\u001b[38;5;21;01mfiles\u001b[39;00m \u001b[38;5;28;01mimport\u001b[39;00m Source\n\u001b[1;32m     29\u001b[0m \u001b[38;5;28;01mfrom\u001b[39;00m \u001b[38;5;21;01m.\u001b[39;00m\u001b[38;5;21;01mlang\u001b[39;00m \u001b[38;5;28;01mimport\u001b[39;00m escape, nohtml\n",
      "File \u001b[0;32m~/opt/anaconda3/lib/python3.9/site-packages/graphviz/dot.py:32\u001b[0m, in \u001b[0;36m<module>\u001b[0;34m\u001b[0m\n\u001b[1;32m      3\u001b[0m \u001b[38;5;124mr\u001b[39m\u001b[38;5;124;03m\"\"\"Assemble DOT source code objects.\u001b[39;00m\n\u001b[1;32m      4\u001b[0m \n\u001b[1;32m      5\u001b[0m \u001b[38;5;124;03m>>> dot = Graph(comment=u'M\\xf8nti Pyth\\xf8n ik den H\\xf8lie Grailen')\u001b[39;00m\n\u001b[0;32m   (...)\u001b[0m\n\u001b[1;32m     28\u001b[0m \u001b[38;5;124;03m'test-output/m00se.gv.pdf'\u001b[39;00m\n\u001b[1;32m     29\u001b[0m \u001b[38;5;124;03m\"\"\"\u001b[39;00m\n\u001b[1;32m     31\u001b[0m \u001b[38;5;28;01mfrom\u001b[39;00m \u001b[38;5;21;01m.\u001b[39;00m \u001b[38;5;28;01mimport\u001b[39;00m backend\n\u001b[0;32m---> 32\u001b[0m \u001b[38;5;28;01mfrom\u001b[39;00m \u001b[38;5;21;01m.\u001b[39;00m \u001b[38;5;28;01mimport\u001b[39;00m files\n\u001b[1;32m     33\u001b[0m \u001b[38;5;28;01mfrom\u001b[39;00m \u001b[38;5;21;01m.\u001b[39;00m \u001b[38;5;28;01mimport\u001b[39;00m lang\n\u001b[1;32m     35\u001b[0m __all__ \u001b[38;5;241m=\u001b[39m [\u001b[38;5;124m'\u001b[39m\u001b[38;5;124mGraph\u001b[39m\u001b[38;5;124m'\u001b[39m, \u001b[38;5;124m'\u001b[39m\u001b[38;5;124mDigraph\u001b[39m\u001b[38;5;124m'\u001b[39m]\n",
      "File \u001b[0;32m~/opt/anaconda3/lib/python3.9/site-packages/graphviz/files.py:22\u001b[0m, in \u001b[0;36m<module>\u001b[0;34m\u001b[0m\n\u001b[1;32m     16\u001b[0m __all__ \u001b[38;5;241m=\u001b[39m [\u001b[38;5;124m'\u001b[39m\u001b[38;5;124mFile\u001b[39m\u001b[38;5;124m'\u001b[39m, \u001b[38;5;124m'\u001b[39m\u001b[38;5;124mSource\u001b[39m\u001b[38;5;124m'\u001b[39m]\n\u001b[1;32m     19\u001b[0m log \u001b[38;5;241m=\u001b[39m logging\u001b[38;5;241m.\u001b[39mgetLogger(\u001b[38;5;18m__name__\u001b[39m)\n\u001b[0;32m---> 22\u001b[0m \u001b[38;5;28;01mclass\u001b[39;00m \u001b[38;5;21;01mBase\u001b[39;00m(\u001b[38;5;28mobject\u001b[39m):\n\u001b[1;32m     24\u001b[0m     _engine \u001b[38;5;241m=\u001b[39m \u001b[38;5;124m'\u001b[39m\u001b[38;5;124mdot\u001b[39m\u001b[38;5;124m'\u001b[39m\n\u001b[1;32m     26\u001b[0m     _format \u001b[38;5;241m=\u001b[39m \u001b[38;5;124m'\u001b[39m\u001b[38;5;124mpdf\u001b[39m\u001b[38;5;124m'\u001b[39m\n",
      "File \u001b[0;32m~/opt/anaconda3/lib/python3.9/site-packages/graphviz/files.py:28\u001b[0m, in \u001b[0;36mBase\u001b[0;34m()\u001b[0m\n\u001b[1;32m     24\u001b[0m _engine \u001b[38;5;241m=\u001b[39m \u001b[38;5;124m'\u001b[39m\u001b[38;5;124mdot\u001b[39m\u001b[38;5;124m'\u001b[39m\n\u001b[1;32m     26\u001b[0m _format \u001b[38;5;241m=\u001b[39m \u001b[38;5;124m'\u001b[39m\u001b[38;5;124mpdf\u001b[39m\u001b[38;5;124m'\u001b[39m\n\u001b[0;32m---> 28\u001b[0m _encoding \u001b[38;5;241m=\u001b[39m \u001b[43mbackend\u001b[49m\u001b[38;5;241;43m.\u001b[39;49m\u001b[43mENCODING\u001b[49m\n\u001b[1;32m     30\u001b[0m \u001b[38;5;129m@property\u001b[39m\n\u001b[1;32m     31\u001b[0m \u001b[38;5;28;01mdef\u001b[39;00m \u001b[38;5;21mengine\u001b[39m(\u001b[38;5;28mself\u001b[39m):\n\u001b[1;32m     32\u001b[0m     \u001b[38;5;124;03m\"\"\"The layout commmand used for rendering (``'dot'``, ``'neato'``, ...).\"\"\"\u001b[39;00m\n",
      "\u001b[0;31mAttributeError\u001b[0m: module 'graphviz.backend' has no attribute 'ENCODING'"
     ]
    }
   ],
   "source": [
    "import graphviz"
   ]
  },
  {
   "cell_type": "code",
   "execution_count": 1,
   "id": "3335a7f3",
   "metadata": {},
   "outputs": [
    {
     "name": "stdout",
     "output_type": "stream",
     "text": [
      "Collecting package metadata (current_repodata.json): done\n",
      "Solving environment: failed with initial frozen solve. Retrying with flexible solve.\n",
      "Solving environment: failed with repodata from current_repodata.json, will retry with next repodata source.\n",
      "Collecting package metadata (repodata.json): done\n",
      "Solving environment: / ^C\n",
      "failed with initial frozen solve. Retrying with flexible solve.\n",
      "\n",
      "CondaError: KeyboardInterrupt\n",
      "\n",
      "\n",
      "Note: you may need to restart the kernel to use updated packages.\n"
     ]
    }
   ],
   "source": [
    "conda install scikit-learn=1.0.2"
   ]
  },
  {
   "cell_type": "code",
   "execution_count": 6,
   "id": "54a2c3b2",
   "metadata": {},
   "outputs": [
    {
     "name": "stdout",
     "output_type": "stream",
     "text": [
      "Collecting package metadata (current_repodata.json): done\n",
      "Solving environment: done\n",
      "\n",
      "## Package Plan ##\n",
      "\n",
      "  environment location: /Users/zori/opt/anaconda3/envs/myenv\n",
      "\n",
      "\n",
      "\n",
      "Preparing transaction: done\n",
      "Verifying transaction: done\n",
      "Executing transaction: done\n",
      "#\n",
      "# To activate this environment, use\n",
      "#\n",
      "#     $ conda activate myenv\n",
      "#\n",
      "# To deactivate an active environment, use\n",
      "#\n",
      "#     $ conda deactivate\n",
      "\n",
      "\n",
      "Note: you may need to restart the kernel to use updated packages.\n"
     ]
    }
   ],
   "source": [
    "conda create --name myenv -y"
   ]
  },
  {
   "cell_type": "code",
   "execution_count": 7,
   "id": "86b9514a",
   "metadata": {},
   "outputs": [
    {
     "name": "stdout",
     "output_type": "stream",
     "text": [
      "\n",
      "CommandNotFoundError: Your shell has not been properly configured to use 'conda activate'.\n",
      "To initialize your shell, run\n",
      "\n",
      "    $ conda init <SHELL_NAME>\n",
      "\n",
      "Currently supported shells are:\n",
      "  - bash\n",
      "  - fish\n",
      "  - tcsh\n",
      "  - xonsh\n",
      "  - zsh\n",
      "  - powershell\n",
      "\n",
      "See 'conda init --help' for more information and options.\n",
      "\n",
      "IMPORTANT: You may need to close and restart your shell after running 'conda init'.\n",
      "\n",
      "\n",
      "\n",
      "Note: you may need to restart the kernel to use updated packages.\n"
     ]
    }
   ],
   "source": [
    "conda activate myenv"
   ]
  },
  {
   "cell_type": "code",
   "execution_count": 1,
   "id": "273825ec",
   "metadata": {},
   "outputs": [
    {
     "name": "stdout",
     "output_type": "stream",
     "text": [
      "\n",
      "Note: you may need to restart the kernel to use updated packages.\n"
     ]
    }
   ],
   "source": [
    "conda config --set channel_priority false"
   ]
  },
  {
   "cell_type": "code",
   "execution_count": 2,
   "id": "9ee75e9f",
   "metadata": {},
   "outputs": [
    {
     "name": "stdout",
     "output_type": "stream",
     "text": [
      "Collecting package metadata (current_repodata.json): done\n",
      "Solving environment: done\n",
      "\n",
      "## Package Plan ##\n",
      "\n",
      "  environment location: /Users/zori/opt/anaconda3\n",
      "\n",
      "\n",
      "The following packages will be downloaded:\n",
      "\n",
      "    package                    |            build\n",
      "    ---------------------------|-----------------\n",
      "    _ipyw_jlab_nb_ext_conf-0.1.0|   py39hecd8cb5_1           5 KB\n",
      "    anaconda-navigator-2.1.4   |   py39hecd8cb5_0         6.4 MB\n",
      "    conda-build-3.21.8         |   py39hecd8cb5_2         549 KB\n",
      "    imagehash-4.2.1            |     pyhd3eb1b0_0         285 KB\n",
      "    navigator-updater-0.2.1    |           py39_1         689 KB\n",
      "    pandas-profiling-2.9.0     |     pyhd3eb1b0_0         168 KB\n",
      "    py-xgboost-1.5.0           |   py39hecd8cb5_1         166 KB\n",
      "    pydantic-1.9.0             |   py39hca72f7f_1         1.8 MB\n",
      "    pydotplus-2.0.2            |             py_3          23 KB\n",
      "    python-graphviz-0.16       |     pyhd3eb1b0_1          20 KB\n",
      "    spacy-3.3.0                |   py39hc29d2bd_0         4.1 MB\n",
      "    tangled-up-in-unicode-0.1.0|     pyhd3eb1b0_0         689 KB\n",
      "    visions-0.5.0              |     pyhd3eb1b0_0          45 KB\n",
      "    ------------------------------------------------------------\n",
      "                                           Total:        14.9 MB\n",
      "\n",
      "The following NEW packages will be INSTALLED:\n",
      "\n",
      "  imagehash          pkgs/main/noarch::imagehash-4.2.1-pyhd3eb1b0_0\n",
      "  tangled-up-in-uni~ pkgs/main/noarch::tangled-up-in-unicode-0.1.0-pyhd3eb1b0_0\n",
      "  visions            pkgs/main/noarch::visions-0.5.0-pyhd3eb1b0_0\n",
      "\n",
      "The following packages will be REMOVED:\n",
      "\n",
      "  xmltodict-0.12.0-pyhd3eb1b0_0\n",
      "\n",
      "The following packages will be UPDATED:\n",
      "\n",
      "  _ipyw_jlab_nb_ext~                   0.1.0-py39hecd8cb5_0 --> 0.1.0-py39hecd8cb5_1\n",
      "  anaconda-navigator                           2.1.1-py39_0 --> 2.1.4-py39hecd8cb5_0\n",
      "  conda-build                         3.21.5-py39hecd8cb5_0 --> 3.21.8-py39hecd8cb5_2\n",
      "  navigator-updater                    0.2.1-py39hecd8cb5_0 --> 0.2.1-py39_1\n",
      "  pandas-profiling   conda-forge/label/cf202003::pandas-pr~ --> pkgs/main::pandas-profiling-2.9.0-pyhd3eb1b0_0\n",
      "  pydantic           conda-forge::pydantic-1.8.2-py39h89e8~ --> pkgs/main::pydantic-1.9.0-py39hca72f7f_1\n",
      "  pydotplus               conda-forge::pydotplus-2.0.2-py_1 --> pkgs/main::pydotplus-2.0.2-py_3\n",
      "  spacy                                3.2.1-py39hc29d2bd_0 --> 3.3.0-py39hc29d2bd_0\n",
      "\n",
      "The following packages will be SUPERSEDED by a higher-priority channel:\n",
      "\n",
      "  py-xgboost                                       anaconda --> pkgs/main\n",
      "  python-graphviz                                  anaconda --> pkgs/main\n",
      "\n",
      "\n",
      "\n",
      "Downloading and Extracting Packages\n",
      "py-xgboost-1.5.0     | 166 KB    | ##################################### | 100% \n",
      "anaconda-navigator-2 | 6.4 MB    | ##################################### | 100% \n",
      "python-graphviz-0.16 | 20 KB     | ##################################### | 100% \n",
      "spacy-3.3.0          | 4.1 MB    | ##################################### | 100% \n",
      "visions-0.5.0        | 45 KB     | ##################################### | 100% \n",
      "tangled-up-in-unicod | 689 KB    | ##################################### | 100% \n",
      "pydantic-1.9.0       | 1.8 MB    | ##################################### | 100% \n",
      "_ipyw_jlab_nb_ext_co | 5 KB      | ##################################### | 100% \n",
      "conda-build-3.21.8   | 549 KB    | ##################################### | 100% \n",
      "pydotplus-2.0.2      | 23 KB     | ##################################### | 100% \n",
      "pandas-profiling-2.9 | 168 KB    | ##################################### | 100% \n",
      "imagehash-4.2.1      | 285 KB    | ##################################### | 100% \n",
      "navigator-updater-0. | 689 KB    | ##################################### | 100% \n",
      "Preparing transaction: done\n",
      "Verifying transaction: done\n",
      "Executing transaction: done\n",
      "\n",
      "Note: you may need to restart the kernel to use updated packages.\n"
     ]
    }
   ],
   "source": [
    "conda update --all --yes"
   ]
  },
  {
   "cell_type": "code",
   "execution_count": 3,
   "id": "230df168",
   "metadata": {},
   "outputs": [
    {
     "data": {
      "text/plain": [
       "'0.24.2'"
      ]
     },
     "execution_count": 3,
     "metadata": {},
     "output_type": "execute_result"
    }
   ],
   "source": [
    "import sklearn\n",
    "sklearn.__version__"
   ]
  },
  {
   "cell_type": "code",
   "execution_count": 4,
   "id": "2f0a85f0",
   "metadata": {},
   "outputs": [
    {
     "name": "stdout",
     "output_type": "stream",
     "text": [
      "Loading channels: done\n",
      "# Name                       Version           Build  Channel             \n",
      "scikit-learn                  0.19.0 py27_nomklh2463853_2  pkgs/main           \n",
      "scikit-learn                  0.19.0  py27h54286d7_2  pkgs/main           \n",
      "scikit-learn                  0.19.0 py35_nomklh9245c0a_2  pkgs/main           \n",
      "scikit-learn                  0.19.0  py35hd036984_2  pkgs/main           \n",
      "scikit-learn                  0.19.0 py36_nomklh752ef42_2  pkgs/main           \n",
      "scikit-learn                  0.19.0  py36h4cafacf_2  pkgs/main           \n",
      "scikit-learn                  0.19.1 py27_nomklhd1ada06_0  pkgs/main           \n",
      "scikit-learn                  0.19.1 py27_nomklhde7755b_0  pkgs/main           \n",
      "scikit-learn                  0.19.1  py27h9788993_0  pkgs/main           \n",
      "scikit-learn                  0.19.1  py27hf9f1f73_0  pkgs/main           \n",
      "scikit-learn                  0.19.1 py35_nomklhf06d1bf_0  pkgs/main           \n",
      "scikit-learn                  0.19.1  py35h2b554eb_0  pkgs/main           \n",
      "scikit-learn                  0.19.1 py36_nomklh0ef093b_0  pkgs/main           \n",
      "scikit-learn                  0.19.1 py36_nomklhde7755b_0  pkgs/main           \n",
      "scikit-learn                  0.19.1  py36hf9f1f73_0  pkgs/main           \n",
      "scikit-learn                  0.19.1  py36hffbff8c_0  pkgs/main           \n",
      "scikit-learn                  0.19.1 py37_nomklhde7755b_0  pkgs/main           \n",
      "scikit-learn                  0.19.1  py37hf9f1f73_0  pkgs/main           \n",
      "scikit-learn                  0.19.2  py27h4f467ca_0  pkgs/main           \n",
      "scikit-learn                  0.19.2  py27hebd9d1a_0  pkgs/main           \n",
      "scikit-learn                  0.19.2  py35h4f467ca_0  pkgs/main           \n",
      "scikit-learn                  0.19.2  py35hebd9d1a_0  pkgs/main           \n",
      "scikit-learn                  0.19.2  py36h4f467ca_0  pkgs/main           \n",
      "scikit-learn                  0.19.2  py36hebd9d1a_0  pkgs/main           \n",
      "scikit-learn                  0.19.2  py37h4f467ca_0  pkgs/main           \n",
      "scikit-learn                  0.19.2  py37hebd9d1a_0  pkgs/main           \n",
      "scikit-learn                  0.20.0  py27h4f467ca_1  pkgs/main           \n",
      "scikit-learn                  0.20.0  py27hebd9d1a_0  pkgs/main           \n",
      "scikit-learn                  0.20.0  py27hebd9d1a_1  pkgs/main           \n",
      "scikit-learn                  0.20.0  py35h4f467ca_0  pkgs/main           \n",
      "scikit-learn                  0.20.0  py35h4f467ca_1  pkgs/main           \n",
      "scikit-learn                  0.20.0  py35hebd9d1a_0  pkgs/main           \n",
      "scikit-learn                  0.20.0  py35hebd9d1a_1  pkgs/main           \n",
      "scikit-learn                  0.20.0  py36h4f467ca_0  pkgs/main           \n",
      "scikit-learn                  0.20.0  py36h4f467ca_1  pkgs/main           \n",
      "scikit-learn                  0.20.0  py36hebd9d1a_0  pkgs/main           \n",
      "scikit-learn                  0.20.0  py36hebd9d1a_1  pkgs/main           \n",
      "scikit-learn                  0.20.0  py37h4f467ca_0  pkgs/main           \n",
      "scikit-learn                  0.20.0  py37h4f467ca_1  pkgs/main           \n",
      "scikit-learn                  0.20.0  py37hebd9d1a_0  pkgs/main           \n",
      "scikit-learn                  0.20.0  py37hebd9d1a_1  pkgs/main           \n",
      "scikit-learn                  0.20.1  py27h27c97d8_0  pkgs/main           \n",
      "scikit-learn                  0.20.1  py27h4f467ca_0  pkgs/main           \n",
      "scikit-learn                  0.20.1  py27hebd9d1a_0  pkgs/main           \n",
      "scikit-learn                  0.20.1  py36h27c97d8_0  pkgs/main           \n",
      "scikit-learn                  0.20.1  py36h4f467ca_0  pkgs/main           \n",
      "scikit-learn                  0.20.1  py36hebd9d1a_0  pkgs/main           \n",
      "scikit-learn                  0.20.1  py37h27c97d8_0  pkgs/main           \n",
      "scikit-learn                  0.20.1  py37h4f467ca_0  pkgs/main           \n",
      "scikit-learn                  0.20.1  py37hebd9d1a_0  pkgs/main           \n",
      "scikit-learn                  0.20.2  py27h27c97d8_0  pkgs/main           \n",
      "scikit-learn                  0.20.2  py27hebd9d1a_0  pkgs/main           \n",
      "scikit-learn                  0.20.2  py36h27c97d8_0  pkgs/main           \n",
      "scikit-learn                  0.20.2  py36hebd9d1a_0  pkgs/main           \n",
      "scikit-learn                  0.20.2  py37h27c97d8_0  pkgs/main           \n",
      "scikit-learn                  0.20.2  py37hebd9d1a_0  pkgs/main           \n",
      "scikit-learn                  0.20.3  py27h27c97d8_0  pkgs/main           \n",
      "scikit-learn                  0.20.3  py27hebd9d1a_0  pkgs/main           \n",
      "scikit-learn                  0.20.3  py36h27c97d8_0  pkgs/main           \n",
      "scikit-learn                  0.20.3  py36hebd9d1a_0  pkgs/main           \n",
      "scikit-learn                  0.20.3  py37h27c97d8_0  pkgs/main           \n",
      "scikit-learn                  0.20.3  py37hebd9d1a_0  pkgs/main           \n",
      "scikit-learn                  0.21.1  py36h27c97d8_0  pkgs/main           \n",
      "scikit-learn                  0.21.1  py36hebd9d1a_0  pkgs/main           \n",
      "scikit-learn                  0.21.1  py37h27c97d8_0  pkgs/main           \n",
      "scikit-learn                  0.21.1  py37hebd9d1a_0  pkgs/main           \n",
      "scikit-learn                  0.21.2  py36h27c97d8_0  pkgs/main           \n",
      "scikit-learn                  0.21.2  py36hebd9d1a_0  pkgs/main           \n",
      "scikit-learn                  0.21.2  py37h27c97d8_0  pkgs/main           \n",
      "scikit-learn                  0.21.2  py37hebd9d1a_0  pkgs/main           \n",
      "scikit-learn                  0.21.3  py36h27c97d8_0  pkgs/main           \n",
      "scikit-learn                  0.21.3  py36hebd9d1a_0  pkgs/main           \n",
      "scikit-learn                  0.21.3  py37h27c97d8_0  pkgs/main           \n",
      "scikit-learn                  0.21.3  py37hebd9d1a_0  pkgs/main           \n",
      "scikit-learn                    0.22  py36h27c97d8_0  pkgs/main           \n",
      "scikit-learn                    0.22  py36hebd9d1a_0  pkgs/main           \n",
      "scikit-learn                    0.22  py37h27c97d8_0  pkgs/main           \n",
      "scikit-learn                    0.22  py37hebd9d1a_0  pkgs/main           \n",
      "scikit-learn                  0.22.1  py36h27c97d8_0  pkgs/main           \n",
      "scikit-learn                  0.22.1  py36hebd9d1a_0  pkgs/main           \n",
      "scikit-learn                  0.22.1  py37h27c97d8_0  pkgs/main           \n",
      "scikit-learn                  0.22.1  py37hebd9d1a_0  pkgs/main           \n",
      "scikit-learn                  0.22.1  py38h27c97d8_0  pkgs/main           \n",
      "scikit-learn                  0.22.1  py38hebd9d1a_0  pkgs/main           \n",
      "scikit-learn                  0.23.1  py36h58f5ce4_0  pkgs/main           \n",
      "scikit-learn                  0.23.1  py36h603561c_0  pkgs/main           \n",
      "scikit-learn                  0.23.1  py37h58f5ce4_0  pkgs/main           \n",
      "scikit-learn                  0.23.1  py37h603561c_0  pkgs/main           \n",
      "scikit-learn                  0.23.1  py38h58f5ce4_0  pkgs/main           \n",
      "scikit-learn                  0.23.1  py38h603561c_0  pkgs/main           \n",
      "scikit-learn                  0.23.2  py36h959d312_0  pkgs/main           \n",
      "scikit-learn                  0.23.2  py37h959d312_0  pkgs/main           \n",
      "scikit-learn                  0.23.2  py38h959d312_0  pkgs/main           \n",
      "scikit-learn                  0.23.2  py39hb2f4e1b_0  pkgs/main           \n",
      "scikit-learn                  0.24.1  py36hb2f4e1b_0  pkgs/main           \n",
      "scikit-learn                  0.24.1  py37hb2f4e1b_0  pkgs/main           \n",
      "scikit-learn                  0.24.1  py38hb2f4e1b_0  pkgs/main           \n",
      "scikit-learn                  0.24.1  py39hb2f4e1b_0  pkgs/main           \n",
      "scikit-learn                  0.24.2  py36hb2f4e1b_0  pkgs/main           \n",
      "scikit-learn                  0.24.2  py37hb2f4e1b_0  pkgs/main           \n",
      "scikit-learn                  0.24.2  py38hb2f4e1b_0  pkgs/main           \n",
      "scikit-learn                  0.24.2  py39hb2f4e1b_0  pkgs/main           \n",
      "scikit-learn                   1.0.1  py37hae1ba45_0  pkgs/main           \n",
      "scikit-learn                   1.0.1  py38hae1ba45_0  pkgs/main           \n",
      "scikit-learn                   1.0.1  py39hae1ba45_0  pkgs/main           \n",
      "scikit-learn                   1.0.2 py310hc081a56_0  pkgs/main           \n",
      "scikit-learn                   1.0.2  py37hae1ba45_0  pkgs/main           \n",
      "scikit-learn                   1.0.2  py37hae1ba45_1  pkgs/main           \n",
      "scikit-learn                   1.0.2  py38hae1ba45_0  pkgs/main           \n",
      "scikit-learn                   1.0.2  py38hae1ba45_1  pkgs/main           \n",
      "scikit-learn                   1.0.2  py39hae1ba45_0  pkgs/main           \n",
      "scikit-learn                   1.0.2  py39hae1ba45_1  pkgs/main           \n"
     ]
    },
    {
     "name": "stdout",
     "output_type": "stream",
     "text": [
      "\n",
      "Note: you may need to restart the kernel to use updated packages.\n"
     ]
    }
   ],
   "source": [
    "conda search scikit-learn"
   ]
  },
  {
   "cell_type": "code",
   "execution_count": 2,
   "id": "cf856117",
   "metadata": {
    "scrolled": false
   },
   "outputs": [
    {
     "name": "stdout",
     "output_type": "stream",
     "text": [
      "Collecting package metadata (current_repodata.json): done\n",
      "Solving environment: / \n",
      "Warning: 2 possible package resolutions (only showing differing packages):\n",
      "  - anaconda/osx-64::ca-certificates-2022.4.26-hecd8cb5_0\n",
      "  - defaults/osx-64::ca-certificates-2022.4.26-hecd8cb5done\n",
      "\n",
      "## Package Plan ##\n",
      "\n",
      "  environment location: /Users/zori/opt/anaconda3\n",
      "\n",
      "  added / updated specs:\n",
      "    - graphviz\n",
      "    - python-graphviz\n",
      "\n",
      "\n",
      "The following packages will be SUPERSEDED by a higher-priority channel:\n",
      "\n",
      "  certifi            anaconda::certifi-2021.10.8-py39hecd8~ --> conda-forge::certifi-2021.10.8-py39h6e9494a_2\n",
      "  conda               anaconda::conda-4.12.0-py39hecd8cb5_0 --> conda-forge::conda-4.12.0-py39h6e9494a_0\n",
      "  openssl              pkgs/main::openssl-1.1.1o-hca72f7f_0 --> conda-forge::openssl-1.1.1o-hfe4f2af_0\n",
      "\n",
      "\n",
      "Preparing transaction: done\n",
      "Verifying transaction: done\n",
      "Executing transaction: done\n",
      "\n",
      "Note: you may need to restart the kernel to use updated packages.\n"
     ]
    }
   ],
   "source": [
    "conda install -c conda-forge graphviz python-graphviz"
   ]
  },
  {
   "cell_type": "code",
   "execution_count": 6,
   "id": "5b77cfab",
   "metadata": {},
   "outputs": [
    {
     "data": {
      "text/plain": [
       "'0.24.2'"
      ]
     },
     "execution_count": 6,
     "metadata": {},
     "output_type": "execute_result"
    }
   ],
   "source": [
    "import sklearn\n",
    "sklearn.__version__"
   ]
  },
  {
   "cell_type": "code",
   "execution_count": null,
   "id": "e6297e63",
   "metadata": {},
   "outputs": [],
   "source": []
  },
  {
   "cell_type": "code",
   "execution_count": null,
   "id": "2c0deec7",
   "metadata": {},
   "outputs": [],
   "source": []
  },
  {
   "cell_type": "code",
   "execution_count": null,
   "id": "fb5173a7",
   "metadata": {},
   "outputs": [],
   "source": []
  },
  {
   "cell_type": "code",
   "execution_count": null,
   "id": "37ef6087",
   "metadata": {},
   "outputs": [],
   "source": [
    "def evaluation_blind_test(X_train, y_train, X_test, y_test, TfIdf_model, clf_model):\n",
    "    \n",
    "    tfvec = TfIdf_model\n",
    "    tf_fit = tfvec.fit(X_train)\n",
    "    X_train = tf_fit.transform(X_train).toarray()\n",
    "    X_test = tf_fit.transform(X_test).toarray()\n",
    "    \n",
    "    clf_model.fit(X_train, y_train)\n",
    "    \n",
    "    y_pred = clf_model.predict(X_test)\n",
    "    \n",
    "    print(print(\"Classification report for the blind test set:\")\n",
    "    print(classification_report(y_test, y_pred)))\n",
    "    \n",
    "    prec0, recall0, fscore0, support0 = precision_recall_fscore_support(y_test, y_pred, \n",
    "                                                  pos_label=0, average='binary')\n",
    "    \n",
    "    prec1, recall1, fscore1, support1 = precision_recall_fscore_support(y_test, y_pred, \n",
    "                                                  pos_label=1, average='binary')\n",
    "    \n",
    "    \n",
    "    return prec0, recall0, fscore0, support0, prec1, recall1, fscore1, support1\n",
    "    "
   ]
  },
  {
   "cell_type": "code",
   "execution_count": null,
   "id": "661a9de1",
   "metadata": {},
   "outputs": [],
   "source": [
    "def evaluation_blind_test_resample(X_train, y_train, X_test, y_test, TfIdf_model, clf_model, resample_model):\n",
    "    \n",
    "    tfvec = TfIdf_model\n",
    "    tf_fit = tfvec.fit(X_train)\n",
    "    X_train = tf_fit.transform(X_train).toarray()\n",
    "    X_test = tf_fit.transform(X_test).toarray()\n",
    "    \n",
    "    X_train_r, y_train_r = resample_model.fit(X_train, y_train)\n",
    "      \n",
    "    clf_model.fit(X_train_r, y_train_r)\n",
    "    \n",
    "    y_pred = clf_model.predict(X_test)\n",
    "    \n",
    "    print(print(\"Classification report for the blind test set:\")\n",
    "    print(classification_report(y_test, y_pred)))\n",
    "    \n",
    "    prec0, recall0, fscore0, support0 = precision_recall_fscore_support(y_test, y_pred, \n",
    "                                                  pos_label=0, average='binary')\n",
    "    \n",
    "    prec1, recall1, fscore1, support1 = precision_recall_fscore_support(y_test, y_pred, \n",
    "                                                  pos_label=1, average='binary')\n",
    "    \n",
    "    \n",
    "    return prec0, recall0, fscore0, support0, prec1, recall1, fscore1, support1"
   ]
  }
 ],
 "metadata": {
  "kernelspec": {
   "display_name": "Python 3 (ipykernel)",
   "language": "python",
   "name": "python3"
  },
  "language_info": {
   "codemirror_mode": {
    "name": "ipython",
    "version": 3
   },
   "file_extension": ".py",
   "mimetype": "text/x-python",
   "name": "python",
   "nbconvert_exporter": "python",
   "pygments_lexer": "ipython3",
   "version": "3.9.7"
  }
 },
 "nbformat": 4,
 "nbformat_minor": 5
}
